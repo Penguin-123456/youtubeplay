{
  "nbformat": 4,
  "nbformat_minor": 0,
  "metadata": {
    "colab": {
      "provenance": [],
      "authorship_tag": "ABX9TyOb8jS38yeU3h9R3lvWa5/H",
      "include_colab_link": true
    },
    "kernelspec": {
      "name": "python3",
      "display_name": "Python 3"
    },
    "language_info": {
      "name": "python"
    }
  },
  "cells": [
    {
      "cell_type": "markdown",
      "metadata": {
        "id": "view-in-github",
        "colab_type": "text"
      },
      "source": [
        "<a href=\"https://colab.research.google.com/github/Penguin-123456/youtubeplay/blob/main/youtubeplay.ipynb\" target=\"_parent\"><img src=\"https://colab.research.google.com/assets/colab-badge.svg\" alt=\"Open In Colab\"/></a>"
      ]
    },
    {
      "cell_type": "markdown",
      "source": [
        "# **使い方**\n",
        "\n",
        "1.   Google CloudでYouTubeのAPIを取得します。詳しくは[GitHub](https://)をご覧ください。\n",
        "2.   APIキーを右のAPI_KEYの中に入れます。\n",
        "3.   ビデオをYouTubeから取得し、右のvideo_idに入力します。\n",
        "4.   'Ctrl + Enter'または▶を押します。\n",
        "5.   すると下に出てきます。\n",
        "\n",
        "\n"
      ],
      "metadata": {
        "id": "y5YK74eMq-8p"
      }
    },
    {
      "cell_type": "code",
      "source": [
        "# Google Cloud Consoleから取得したAPIキー\n",
        "API_KEY = \"\" # @param {type:\"string\"}\n",
        "# YouTube Data APIを利用するためのライブラリをインポート\n",
        "import googleapiclient.discovery\n",
        "# YouTube Data APIを利用するためのサービスを生成\n",
        "service = googleapiclient.discovery.build(\"youtube\", \"v3\", developerKey=API_KEY)\n",
        "# 動画のID\n",
        "video_id = \"\" # @param {type:\"string\"}\n",
        "# 動画の情報を取得\n",
        "response = service.videos().list(\n",
        "part=\"statistics\",  # 動画の統計情報を取得\n",
        "id=video_id  # 動画のIDを指定\n",
        ").execute()\n",
        "# 再生回数を取得\n",
        "view_count = response[\"items\"][0][\"statistics\"][\"viewCount\"]\n",
        "# 再生回数を表示\n",
        "print(view_count)  # 再生回数が表示される"
      ],
      "metadata": {
        "colab": {
          "base_uri": "https://localhost:8080/"
        },
        "id": "9c62s0kSn-0B",
        "outputId": "9377d49f-e4df-433b-ec35-c516dceb1f20"
      },
      "execution_count": null,
      "outputs": [
        {
          "output_type": "stream",
          "name": "stdout",
          "text": [
            "3948387\n"
          ]
        }
      ]
    }
  ]
}